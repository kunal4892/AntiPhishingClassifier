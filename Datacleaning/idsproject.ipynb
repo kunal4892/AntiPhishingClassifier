{
 "cells": [
  {
   "cell_type": "code",
   "execution_count": 6,
   "metadata": {},
   "outputs": [],
   "source": [
    "from sklearn import tree\n",
    "from sklearn.metrics import accuracy_score\n",
    "import pandas as pd\n",
    "import numpy as np\n",
    "import re\n",
    "import whois\n",
    "from sklearn.linear_model import LogisticRegression\n",
    "from sklearn.metrics import accuracy_score"
   ]
  },
  {
   "cell_type": "code",
   "execution_count": 7,
   "metadata": {},
   "outputs": [],
   "source": [
    "#!pip install whois"
   ]
  },
  {
   "cell_type": "code",
   "execution_count": 8,
   "metadata": {},
   "outputs": [],
   "source": [
    "data = pd.read_csv(\"urlset.csv\", na_values=['-'])"
   ]
  },
  {
   "cell_type": "code",
   "execution_count": null,
   "metadata": {},
   "outputs": [],
   "source": [
    "first = data[[\"domain\",\"ranking\",\"label\"]]\n",
    "first=first.sample(frac =1)\n",
    "first['domain'] = [x.lstrip(\"'\").rstrip(\"'\") for x in first['domain']]\n",
    "# first=first[:5000]\n",
    "isIp=[]\n",
    "urlLen=[]\n",
    "isAtTheRate=[]\n",
    "isredirect=[]\n",
    "haveDash=[]\n",
    "domainLen=[]\n",
    "valid=[]\n",
    "nosOfSubdomain=[]\n",
    "activeDuration=[]\n",
    "for i, j in first.iterrows():\n",
    "    urlLen.append(len(j[0]))\n",
    "    domain=j[0].split(\"/\",1)[0]\n",
    "    domainLen.append(len(domain))\n",
    "    nosOfSubdomain.append(domain.count(\".\"))\n",
    "#     domainrecord=whois.query('google.com')\n",
    "    try :\n",
    "     domainInfo = whois.query(domain)\n",
    "     \n",
    "     expiry_date=domainInfo.expiration_date  \n",
    "     creation_date=domainInfo.creation_date\n",
    "     validity=expiry_date-creation_date\n",
    "     validity=validity.days\n",
    "     valid.append(1)\n",
    "     activeDuration.append(validity)   \n",
    "    except (Exception):  #NOT FOUND\n",
    "     valid.append(0)\n",
    "     activeDuration.append(0) \n",
    "#      print(domain)\n",
    "     \n",
    "#     domainInfo=whois.query(domain)\n",
    "    if domain.find(\"-\")!=-1:\n",
    "        haveDash.append(1)\n",
    "#         print(j[0])\n",
    "    else:\n",
    "        haveDash.append(0)\n",
    "        \n",
    "    if j[0].find(\"@\")!=-1:\n",
    "        isAtTheRate.append(1)\n",
    "#         print(j[0])\n",
    "    else:\n",
    "        isAtTheRate.append(0)\n",
    "    if j[0].find(\"//\")!=-1:\n",
    "        isredirect.append(1)\n",
    "#         print(j[0])\n",
    "    else:\n",
    "        isredirect.append(0)    \n",
    "    if re.match('\\d{1,3}\\.\\d{1,3}\\.\\d{1,3}\\.\\d{1,3}', domain) != None:\n",
    "        isIp.append(1)\n",
    "    else:\n",
    "        isIp.append(0)\n",
    "first[\"isIp\"]=isIp\n",
    "first[\"urlLen\"]=urlLen\n",
    "first[\"is@\"]=isAtTheRate\n",
    "first[\"isredirect\"]=isredirect\n",
    "first[\"haveDash\"]=haveDash\n",
    "first[\"domainLen\"]=domainLen\n",
    "first[\"nosOfSubdomain\"]=nosOfSubdomain\n",
    "print(len(valid))\n",
    "first[\"valid\"]=valid\n",
    "first[\"activeDuration\"]=activeDuration\n",
    "randData=first.sample(frac =1) \n",
    "\n",
    "randData\n"
   ]
  },
  {
   "cell_type": "code",
   "execution_count": 72,
   "metadata": {},
   "outputs": [],
   "source": [
    "randData = randData[[\"domain\",'ranking','isIp','valid','activeDuration','urlLen','is@','isredirect','haveDash','domainLen','nosOfSubdomain','label']]\n",
    "randData.to_csv (r'cleaned_data_withwhois.csv', index = None, header=True)"
   ]
  },
  {
   "cell_type": "code",
   "execution_count": 73,
   "metadata": {},
   "outputs": [],
   "source": [
    "randData = randData[['ranking','isIp','valid','activeDuration','urlLen','is@','isredirect','haveDash','domainLen','nosOfSubdomain','label']]"
   ]
  },
  {
   "cell_type": "code",
   "execution_count": 75,
   "metadata": {},
   "outputs": [
    {
     "name": "stdout",
     "output_type": "stream",
     "text": [
      "The accuracy of your Logistic Regression on testing data is: 73.6\n"
     ]
    },
    {
     "name": "stderr",
     "output_type": "stream",
     "text": [
      "/home/harshit/miniconda3/lib/python3.7/site-packages/sklearn/linear_model/logistic.py:432: FutureWarning: Default solver will be changed to 'lbfgs' in 0.22. Specify a solver to silence this warning.\n",
      "  FutureWarning)\n"
     ]
    }
   ],
   "source": [
    "\n",
    "# randData.to_csv (r'cleaned_data.csv', index = None, header=True)\n",
    "inputs=randData.values[:,:-1]\n",
    "# print(inputs)\n",
    "outputs = randData.values[:, -1]\n",
    "# print(outputs)\n",
    "training_inputs = inputs[:4000]\n",
    "training_outputs = outputs[:4000] \n",
    "testing_inputs = inputs[4000:]\n",
    "testing_outputs = outputs[4000:]\n",
    "classifier = LogisticRegression()\n",
    "classifier.fit(training_inputs, training_outputs)\n",
    "predictions = classifier.predict(testing_inputs)\n",
    "accuracy = 100.0 * accuracy_score(testing_outputs, predictions)\n",
    "\n",
    "print (\"The accuracy of your Logistic Regression on testing data is: \" + str(accuracy))"
   ]
  },
  {
   "cell_type": "code",
   "execution_count": 76,
   "metadata": {},
   "outputs": [
    {
     "name": "stdout",
     "output_type": "stream",
     "text": [
      "The accuracy of your decision tree on testing data is: 90.10000000000001\n"
     ]
    }
   ],
   "source": [
    "from sklearn import tree\n",
    "classifier = tree.DecisionTreeClassifier()\n",
    "classifier.fit(training_inputs, training_outputs)\n",
    "\n",
    "predictions = classifier.predict(testing_inputs)\n",
    "\n",
    "accuracy = 100.0 * accuracy_score(testing_outputs, predictions)\n",
    "\n",
    "print (\"The accuracy of your decision tree on testing data is: \" + str(accuracy))"
   ]
  },
  {
   "cell_type": "code",
   "execution_count": 77,
   "metadata": {},
   "outputs": [
    {
     "name": "stdout",
     "output_type": "stream",
     "text": [
      "The accuracy of your decision tree on testing data is: 92.80000000000001\n"
     ]
    }
   ],
   "source": [
    "from sklearn.ensemble import RandomForestClassifier\n",
    "\n",
    "classifier=RandomForestClassifier(n_estimators = 50)\n",
    "\n",
    "classifier.fit(training_inputs, training_outputs)\n",
    "\n",
    "predictions=classifier.predict(testing_inputs)\n",
    "accuracy = 100.0 * accuracy_score(testing_outputs, predictions)\n",
    "\n",
    "print (\"The accuracy of your decision tree on testing data is: \" + str(accuracy))"
   ]
  },
  {
   "cell_type": "code",
   "execution_count": null,
   "metadata": {},
   "outputs": [],
   "source": [
    "from sklearn import svm\n",
    "classifier = svm.SVC(gamma='scale')\n",
    "classifier.fit(training_inputs, training_outputs)\n",
    "\n",
    "predictions=classifier.predict(testing_inputs)\n",
    "accuracy = 100.0 * accuracy_score(testing_outputs, predictions)\n",
    "\n",
    "print (\"The accuracy of your decision tree on testing data is: \" + str(accuracy))"
   ]
  },
  {
   "cell_type": "code",
   "execution_count": 7,
   "metadata": {},
   "outputs": [
    {
     "data": {
      "text/plain": [
       "['C:\\\\Users\\\\harsh\\\\Desktop',\n",
       " 'C:\\\\Users\\\\harsh\\\\Anaconda3\\\\python37.zip',\n",
       " 'C:\\\\Users\\\\harsh\\\\Anaconda3\\\\DLLs',\n",
       " 'C:\\\\Users\\\\harsh\\\\Anaconda3\\\\lib',\n",
       " 'C:\\\\Users\\\\harsh\\\\Anaconda3',\n",
       " '',\n",
       " 'C:\\\\Users\\\\harsh\\\\AppData\\\\Roaming\\\\Python\\\\Python37\\\\site-packages',\n",
       " 'C:\\\\Users\\\\harsh\\\\Anaconda3\\\\lib\\\\site-packages',\n",
       " 'C:\\\\Users\\\\harsh\\\\Anaconda3\\\\lib\\\\site-packages\\\\win32',\n",
       " 'C:\\\\Users\\\\harsh\\\\Anaconda3\\\\lib\\\\site-packages\\\\win32\\\\lib',\n",
       " 'C:\\\\Users\\\\harsh\\\\Anaconda3\\\\lib\\\\site-packages\\\\Pythonwin',\n",
       " 'C:\\\\Users\\\\harsh\\\\Anaconda3\\\\lib\\\\site-packages\\\\IPython\\\\extensions',\n",
       " 'C:\\\\Users\\\\harsh\\\\.ipython']"
      ]
     },
     "execution_count": 7,
     "metadata": {},
     "output_type": "execute_result"
    }
   ],
   "source": [
    "import sys\n",
    "sys.path"
   ]
  },
  {
   "cell_type": "code",
   "execution_count": 4,
   "metadata": {},
   "outputs": [
    {
     "name": "stdout",
     "output_type": "stream",
     "text": [
      "{'name': 'google.com', 'registrar': 'MarkMonitor Inc.', 'creation_date': datetime.datetime(1997, 9, 15, 4, 0), 'expiration_date': datetime.datetime(2028, 9, 14, 4, 0), 'last_updated': None, 'name_servers': set()}\n"
     ]
    }
   ],
   "source": [
    "domainInfo=whois.query('google.com')\n",
    "print(domainInfo.__dict__)"
   ]
  },
  {
   "cell_type": "code",
   "execution_count": null,
   "metadata": {},
   "outputs": [],
   "source": []
  },
  {
   "cell_type": "code",
   "execution_count": null,
   "metadata": {},
   "outputs": [],
   "source": []
  },
  {
   "cell_type": "code",
   "execution_count": null,
   "metadata": {},
   "outputs": [],
   "source": []
  }
 ],
 "metadata": {
  "kernelspec": {
   "display_name": "Python 3",
   "language": "python",
   "name": "python3"
  },
  "language_info": {
   "codemirror_mode": {
    "name": "ipython",
    "version": 3
   },
   "file_extension": ".py",
   "mimetype": "text/x-python",
   "name": "python",
   "nbconvert_exporter": "python",
   "pygments_lexer": "ipython3",
   "version": "3.7.3"
  }
 },
 "nbformat": 4,
 "nbformat_minor": 2
}
